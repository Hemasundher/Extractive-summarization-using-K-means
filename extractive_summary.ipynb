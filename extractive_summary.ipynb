{
  "nbformat": 4,
  "nbformat_minor": 0,
  "metadata": {
    "colab": {
      "provenance": []
    },
    "kernelspec": {
      "name": "python3",
      "display_name": "Python 3"
    },
    "language_info": {
      "name": "python"
    }
  },
  "cells": [
    {
      "cell_type": "code",
      "execution_count": null,
      "metadata": {
        "id": "hSRkuvSL4yWB"
      },
      "outputs": [],
      "source": [
        "import pandas as pd\n",
        "import numpy as np"
      ]
    },
    {
      "cell_type": "code",
      "source": [
        "import warnings\n",
        "\n",
        "# Ignore all warnings\n",
        "warnings.filterwarnings(\"ignore\")"
      ],
      "metadata": {
        "id": "cJ5dqUwr421i"
      },
      "execution_count": null,
      "outputs": []
    },
    {
      "cell_type": "code",
      "source": [
        "# path to csv file\n",
        "path='/content/drive/MyDrive/extractive summarisation/csv files/Copy of data.csv'\n",
        "df=pd.read_csv(path)\n",
        "df.head()"
      ],
      "metadata": {
        "colab": {
          "base_uri": "https://localhost:8080/",
          "height": 293
        },
        "id": "XEC0eWLl5A0d",
        "outputId": "b9151dbb-7228-4009-9f10-2c745256b261"
      },
      "execution_count": null,
      "outputs": [
        {
          "output_type": "execute_result",
          "data": {
            "text/plain": [
              "                                            business  \\\n",
              "0  China now top trader with Japan\\n\\nChina overt...   \n",
              "1  Oil prices reach three-month low\\n\\nOil prices...   \n",
              "2  Fed chief warning on US deficit\\n\\nFederal Res...   \n",
              "3  US regulator to rule on pain drug\\n\\nUS food a...   \n",
              "4  Insurance bosses plead guilty\\n\\nAnother three...   \n",
              "\n",
              "                                       entertainment  \\\n",
              "0  Indie film nominations announced\\n\\nMike Leigh...   \n",
              "1  Berlin celebrates European cinema\\n\\nOrganiser...   \n",
              "2  Robots march to US cinema summit\\n\\nAnimated m...   \n",
              "3  Spike Lee backs student directors\\n\\nFilm-make...   \n",
              "4  Singer Knight backs anti-gun song\\n\\nR&B star ...   \n",
              "\n",
              "                                               sport  \\\n",
              "0  Uefa approves fake grass\\n\\nUefa says it will ...   \n",
              "1                                                NaN   \n",
              "2  Man Utd through after Exeter test\\n\\nMancheste...   \n",
              "3  Wenger handed summer war chest\\n\\nArsenal boss...   \n",
              "4  Borders 19-20 Ulster\\n\\nUlster clung on for a ...   \n",
              "\n",
              "                                                tech  \\\n",
              "0  File-swappers ready new network\\n\\nLegal attac...   \n",
              "1  'Evil twin' fear for wireless net\\n\\nPeople us...   \n",
              "2  New Year's texting breaks record\\n\\nA mobile p...   \n",
              "3  Blinx sequel purrs nicely\\n\\nThe original Blin...   \n",
              "4  Gamers could drive high-definition\\n\\nTV, film...   \n",
              "\n",
              "                                            politics  \n",
              "0  Minister defends hunting ban law\\n\\nThe law ba...  \n",
              "1  Tory expert denies defeat warning\\n\\nThe Conse...  \n",
              "2  Parties warned over 'grey vote'\\n\\nPolitical p...  \n",
              "3  Baron Kinnock makes Lords debut\\n\\nFormer Labo...  \n",
              "4  No to Royal succession shake-up\\n\\nA Labour pe...  "
            ],
            "text/html": [
              "\n",
              "  <div id=\"df-46a06cc9-d235-4a99-920b-81a88f0b2c8b\" class=\"colab-df-container\">\n",
              "    <div>\n",
              "<style scoped>\n",
              "    .dataframe tbody tr th:only-of-type {\n",
              "        vertical-align: middle;\n",
              "    }\n",
              "\n",
              "    .dataframe tbody tr th {\n",
              "        vertical-align: top;\n",
              "    }\n",
              "\n",
              "    .dataframe thead th {\n",
              "        text-align: right;\n",
              "    }\n",
              "</style>\n",
              "<table border=\"1\" class=\"dataframe\">\n",
              "  <thead>\n",
              "    <tr style=\"text-align: right;\">\n",
              "      <th></th>\n",
              "      <th>business</th>\n",
              "      <th>entertainment</th>\n",
              "      <th>sport</th>\n",
              "      <th>tech</th>\n",
              "      <th>politics</th>\n",
              "    </tr>\n",
              "  </thead>\n",
              "  <tbody>\n",
              "    <tr>\n",
              "      <th>0</th>\n",
              "      <td>China now top trader with Japan\\n\\nChina overt...</td>\n",
              "      <td>Indie film nominations announced\\n\\nMike Leigh...</td>\n",
              "      <td>Uefa approves fake grass\\n\\nUefa says it will ...</td>\n",
              "      <td>File-swappers ready new network\\n\\nLegal attac...</td>\n",
              "      <td>Minister defends hunting ban law\\n\\nThe law ba...</td>\n",
              "    </tr>\n",
              "    <tr>\n",
              "      <th>1</th>\n",
              "      <td>Oil prices reach three-month low\\n\\nOil prices...</td>\n",
              "      <td>Berlin celebrates European cinema\\n\\nOrganiser...</td>\n",
              "      <td>NaN</td>\n",
              "      <td>'Evil twin' fear for wireless net\\n\\nPeople us...</td>\n",
              "      <td>Tory expert denies defeat warning\\n\\nThe Conse...</td>\n",
              "    </tr>\n",
              "    <tr>\n",
              "      <th>2</th>\n",
              "      <td>Fed chief warning on US deficit\\n\\nFederal Res...</td>\n",
              "      <td>Robots march to US cinema summit\\n\\nAnimated m...</td>\n",
              "      <td>Man Utd through after Exeter test\\n\\nMancheste...</td>\n",
              "      <td>New Year's texting breaks record\\n\\nA mobile p...</td>\n",
              "      <td>Parties warned over 'grey vote'\\n\\nPolitical p...</td>\n",
              "    </tr>\n",
              "    <tr>\n",
              "      <th>3</th>\n",
              "      <td>US regulator to rule on pain drug\\n\\nUS food a...</td>\n",
              "      <td>Spike Lee backs student directors\\n\\nFilm-make...</td>\n",
              "      <td>Wenger handed summer war chest\\n\\nArsenal boss...</td>\n",
              "      <td>Blinx sequel purrs nicely\\n\\nThe original Blin...</td>\n",
              "      <td>Baron Kinnock makes Lords debut\\n\\nFormer Labo...</td>\n",
              "    </tr>\n",
              "    <tr>\n",
              "      <th>4</th>\n",
              "      <td>Insurance bosses plead guilty\\n\\nAnother three...</td>\n",
              "      <td>Singer Knight backs anti-gun song\\n\\nR&amp;B star ...</td>\n",
              "      <td>Borders 19-20 Ulster\\n\\nUlster clung on for a ...</td>\n",
              "      <td>Gamers could drive high-definition\\n\\nTV, film...</td>\n",
              "      <td>No to Royal succession shake-up\\n\\nA Labour pe...</td>\n",
              "    </tr>\n",
              "  </tbody>\n",
              "</table>\n",
              "</div>\n",
              "    <div class=\"colab-df-buttons\">\n",
              "\n",
              "  <div class=\"colab-df-container\">\n",
              "    <button class=\"colab-df-convert\" onclick=\"convertToInteractive('df-46a06cc9-d235-4a99-920b-81a88f0b2c8b')\"\n",
              "            title=\"Convert this dataframe to an interactive table.\"\n",
              "            style=\"display:none;\">\n",
              "\n",
              "  <svg xmlns=\"http://www.w3.org/2000/svg\" height=\"24px\" viewBox=\"0 -960 960 960\">\n",
              "    <path d=\"M120-120v-720h720v720H120Zm60-500h600v-160H180v160Zm220 220h160v-160H400v160Zm0 220h160v-160H400v160ZM180-400h160v-160H180v160Zm440 0h160v-160H620v160ZM180-180h160v-160H180v160Zm440 0h160v-160H620v160Z\"/>\n",
              "  </svg>\n",
              "    </button>\n",
              "\n",
              "  <style>\n",
              "    .colab-df-container {\n",
              "      display:flex;\n",
              "      gap: 12px;\n",
              "    }\n",
              "\n",
              "    .colab-df-convert {\n",
              "      background-color: #E8F0FE;\n",
              "      border: none;\n",
              "      border-radius: 50%;\n",
              "      cursor: pointer;\n",
              "      display: none;\n",
              "      fill: #1967D2;\n",
              "      height: 32px;\n",
              "      padding: 0 0 0 0;\n",
              "      width: 32px;\n",
              "    }\n",
              "\n",
              "    .colab-df-convert:hover {\n",
              "      background-color: #E2EBFA;\n",
              "      box-shadow: 0px 1px 2px rgba(60, 64, 67, 0.3), 0px 1px 3px 1px rgba(60, 64, 67, 0.15);\n",
              "      fill: #174EA6;\n",
              "    }\n",
              "\n",
              "    .colab-df-buttons div {\n",
              "      margin-bottom: 4px;\n",
              "    }\n",
              "\n",
              "    [theme=dark] .colab-df-convert {\n",
              "      background-color: #3B4455;\n",
              "      fill: #D2E3FC;\n",
              "    }\n",
              "\n",
              "    [theme=dark] .colab-df-convert:hover {\n",
              "      background-color: #434B5C;\n",
              "      box-shadow: 0px 1px 3px 1px rgba(0, 0, 0, 0.15);\n",
              "      filter: drop-shadow(0px 1px 2px rgba(0, 0, 0, 0.3));\n",
              "      fill: #FFFFFF;\n",
              "    }\n",
              "  </style>\n",
              "\n",
              "    <script>\n",
              "      const buttonEl =\n",
              "        document.querySelector('#df-46a06cc9-d235-4a99-920b-81a88f0b2c8b button.colab-df-convert');\n",
              "      buttonEl.style.display =\n",
              "        google.colab.kernel.accessAllowed ? 'block' : 'none';\n",
              "\n",
              "      async function convertToInteractive(key) {\n",
              "        const element = document.querySelector('#df-46a06cc9-d235-4a99-920b-81a88f0b2c8b');\n",
              "        const dataTable =\n",
              "          await google.colab.kernel.invokeFunction('convertToInteractive',\n",
              "                                                    [key], {});\n",
              "        if (!dataTable) return;\n",
              "\n",
              "        const docLinkHtml = 'Like what you see? Visit the ' +\n",
              "          '<a target=\"_blank\" href=https://colab.research.google.com/notebooks/data_table.ipynb>data table notebook</a>'\n",
              "          + ' to learn more about interactive tables.';\n",
              "        element.innerHTML = '';\n",
              "        dataTable['output_type'] = 'display_data';\n",
              "        await google.colab.output.renderOutput(dataTable, element);\n",
              "        const docLink = document.createElement('div');\n",
              "        docLink.innerHTML = docLinkHtml;\n",
              "        element.appendChild(docLink);\n",
              "      }\n",
              "    </script>\n",
              "  </div>\n",
              "\n",
              "\n",
              "<div id=\"df-fe5864c1-50b6-40c4-922d-45e4d810a313\">\n",
              "  <button class=\"colab-df-quickchart\" onclick=\"quickchart('df-fe5864c1-50b6-40c4-922d-45e4d810a313')\"\n",
              "            title=\"Suggest charts\"\n",
              "            style=\"display:none;\">\n",
              "\n",
              "<svg xmlns=\"http://www.w3.org/2000/svg\" height=\"24px\"viewBox=\"0 0 24 24\"\n",
              "     width=\"24px\">\n",
              "    <g>\n",
              "        <path d=\"M19 3H5c-1.1 0-2 .9-2 2v14c0 1.1.9 2 2 2h14c1.1 0 2-.9 2-2V5c0-1.1-.9-2-2-2zM9 17H7v-7h2v7zm4 0h-2V7h2v10zm4 0h-2v-4h2v4z\"/>\n",
              "    </g>\n",
              "</svg>\n",
              "  </button>\n",
              "\n",
              "<style>\n",
              "  .colab-df-quickchart {\n",
              "      --bg-color: #E8F0FE;\n",
              "      --fill-color: #1967D2;\n",
              "      --hover-bg-color: #E2EBFA;\n",
              "      --hover-fill-color: #174EA6;\n",
              "      --disabled-fill-color: #AAA;\n",
              "      --disabled-bg-color: #DDD;\n",
              "  }\n",
              "\n",
              "  [theme=dark] .colab-df-quickchart {\n",
              "      --bg-color: #3B4455;\n",
              "      --fill-color: #D2E3FC;\n",
              "      --hover-bg-color: #434B5C;\n",
              "      --hover-fill-color: #FFFFFF;\n",
              "      --disabled-bg-color: #3B4455;\n",
              "      --disabled-fill-color: #666;\n",
              "  }\n",
              "\n",
              "  .colab-df-quickchart {\n",
              "    background-color: var(--bg-color);\n",
              "    border: none;\n",
              "    border-radius: 50%;\n",
              "    cursor: pointer;\n",
              "    display: none;\n",
              "    fill: var(--fill-color);\n",
              "    height: 32px;\n",
              "    padding: 0;\n",
              "    width: 32px;\n",
              "  }\n",
              "\n",
              "  .colab-df-quickchart:hover {\n",
              "    background-color: var(--hover-bg-color);\n",
              "    box-shadow: 0 1px 2px rgba(60, 64, 67, 0.3), 0 1px 3px 1px rgba(60, 64, 67, 0.15);\n",
              "    fill: var(--button-hover-fill-color);\n",
              "  }\n",
              "\n",
              "  .colab-df-quickchart-complete:disabled,\n",
              "  .colab-df-quickchart-complete:disabled:hover {\n",
              "    background-color: var(--disabled-bg-color);\n",
              "    fill: var(--disabled-fill-color);\n",
              "    box-shadow: none;\n",
              "  }\n",
              "\n",
              "  .colab-df-spinner {\n",
              "    border: 2px solid var(--fill-color);\n",
              "    border-color: transparent;\n",
              "    border-bottom-color: var(--fill-color);\n",
              "    animation:\n",
              "      spin 1s steps(1) infinite;\n",
              "  }\n",
              "\n",
              "  @keyframes spin {\n",
              "    0% {\n",
              "      border-color: transparent;\n",
              "      border-bottom-color: var(--fill-color);\n",
              "      border-left-color: var(--fill-color);\n",
              "    }\n",
              "    20% {\n",
              "      border-color: transparent;\n",
              "      border-left-color: var(--fill-color);\n",
              "      border-top-color: var(--fill-color);\n",
              "    }\n",
              "    30% {\n",
              "      border-color: transparent;\n",
              "      border-left-color: var(--fill-color);\n",
              "      border-top-color: var(--fill-color);\n",
              "      border-right-color: var(--fill-color);\n",
              "    }\n",
              "    40% {\n",
              "      border-color: transparent;\n",
              "      border-right-color: var(--fill-color);\n",
              "      border-top-color: var(--fill-color);\n",
              "    }\n",
              "    60% {\n",
              "      border-color: transparent;\n",
              "      border-right-color: var(--fill-color);\n",
              "    }\n",
              "    80% {\n",
              "      border-color: transparent;\n",
              "      border-right-color: var(--fill-color);\n",
              "      border-bottom-color: var(--fill-color);\n",
              "    }\n",
              "    90% {\n",
              "      border-color: transparent;\n",
              "      border-bottom-color: var(--fill-color);\n",
              "    }\n",
              "  }\n",
              "</style>\n",
              "\n",
              "  <script>\n",
              "    async function quickchart(key) {\n",
              "      const quickchartButtonEl =\n",
              "        document.querySelector('#' + key + ' button');\n",
              "      quickchartButtonEl.disabled = true;  // To prevent multiple clicks.\n",
              "      quickchartButtonEl.classList.add('colab-df-spinner');\n",
              "      try {\n",
              "        const charts = await google.colab.kernel.invokeFunction(\n",
              "            'suggestCharts', [key], {});\n",
              "      } catch (error) {\n",
              "        console.error('Error during call to suggestCharts:', error);\n",
              "      }\n",
              "      quickchartButtonEl.classList.remove('colab-df-spinner');\n",
              "      quickchartButtonEl.classList.add('colab-df-quickchart-complete');\n",
              "    }\n",
              "    (() => {\n",
              "      let quickchartButtonEl =\n",
              "        document.querySelector('#df-fe5864c1-50b6-40c4-922d-45e4d810a313 button');\n",
              "      quickchartButtonEl.style.display =\n",
              "        google.colab.kernel.accessAllowed ? 'block' : 'none';\n",
              "    })();\n",
              "  </script>\n",
              "</div>\n",
              "\n",
              "    </div>\n",
              "  </div>\n"
            ],
            "application/vnd.google.colaboratory.intrinsic+json": {
              "type": "dataframe",
              "variable_name": "df",
              "summary": "{\n  \"name\": \"df\",\n  \"rows\": 347,\n  \"fields\": [\n    {\n      \"column\": \"business\",\n      \"properties\": {\n        \"dtype\": \"string\",\n        \"num_unique_values\": 347,\n        \"samples\": [\n          \"Watchdog probes Vivendi bond sale\\n\\nFrench stock market regulator AMF has filed complaints against media giant Vivendi Universal, its boss and another top executive.\\n\\nIt believes the prospectus for a bond issue was unclear and that executives may have had privileged information. AMF has begun proceedings against Vivendi, its chief executive Jean-Rene Fourtou and chief operating officer Jean-Bernard Levy. Vivendi advisor Deutsche Bank was also the subject of a complaint filing. Deutsche Bank, which was responsible for selling the convertible bonds to investors, could face penalties if the complaint is upheld.\\n\\nVivendi has said it believes there is \\\"no legal basis\\\" for the complaints. The watchdog is said to believe the executive pair were party to \\\"privileged information\\\" surrounding the issue of the bonds. Both men bought some of the bonds, the Associated Press news agency reported. AMF is investigating claims that the duo were aware of an interest in Vivendi's US assets from investor Marvin Davis, at the time of the bond sale. Vivendi, however, has said that the information was public knowledge as Mr Davis' offer for the US assets had already been rejected by Vivendi's board. AMF is also looking into whether the executives knew that Vivendi was considering exercising its right to buy British Telecom's shares in Cegetel. Vivendi has rejected the charge, saying the decision to buy the Cegetel shares was \\\"no more than a possibility, of which the public was perfectly aware\\\" at the time of the bond issue. Back in December, Vivendi and its former chief executive Jean-Marie Messier were each fined 1m euros ($1.3m; \\u00a3690,000) by AMF. The fines came after a 15-month probe into allegations that the media giant misled investors after a costly acquisition programme went wrong.\\n\",\n          \"Durex maker SSL awaits firm bid\\n\\nUK condom maker SSL International has refused to comment on reports it may be subject to a takeover early in 2005.\\n\\nA Financial Times report said business intelligence firm GPW was understood to be starting due diligence work on SSL International, for a corporate client. An spokesman for SSL, which makes the famous Durex brand of condom, would not to comment on \\\"market speculation\\\". However the news sent shares in SSL, which also makes Scholl footwear, up more than 6%, or 16.75 pence to 293.5p.\\n\\nThe FT said most the high-profile firm that might woo SSL was Anglo-Dutch household products group Reckitt Benckiser. Eighteen months ago Reckitt Benckiser was at the centre of a rumoured takeover bid for SSL - but that came to nothing. Other firms that have been seen as would-be suitors include Kimberly-Clark, Johnson & Johnson, and private equity investors. Analysts have seen SSL as a takeover target for years. It sold off its surgical gloves and antiseptics businesses for \\u00a3173m to a management team in May. SSL was formed by a three-way merger between Seton Healthcare, footwear specialists Scholl and condom-maker London International Group. Its other brands include Syndol analgesic, Meltus cough medicine, Sauber compression hosiery and deodorant products, and Mister Baby.\\n\",\n          \"Fresh hope after Argentine crisis\\n\\nThree years after Argentina was hit by a deadly economic crisis, there is fresh hope.\\n\\nThe country's economy is set to grow about 8% this year after seeing 9% growth last year, a sharp turnaround from 2002 when output fell 11%. The unemployment rate is improving, too: It is set to slip below 13% by the end of the year, down from 20% in May 2002. True, problems remain, but the overall picture is one of vast improvement. Even the International Monetary Fund (IMF) admits this. \\\"The Argentine authorities are proud, should be proud, of the strong performance of the economy,\\\" Thomas Dawson, an IMF director, said earlier this month.\\n\\nArgentina has made a remarkable recovery from a hideous and lengthy recession which in 2001 culminated in the government halting debt repayments to its private creditors. The debt default sparked a deep and prolonged economic crisis which, at least initially, was made worse by the government's decisions. Pension payments were halted and bank accounts frozen as part of austerity measures introduced by the government to deal with the country's massive debts. In response, angry crowds of ordinary Argentines took to the streets where dozens of lives were lost in clashes with the police. Two presidents and at least three finance minister resigned in less than a month. Argentina was on the brink of collapse. The fix was found in the currency markets with the abandonment of the peso's decade-long peg to the US dollar in February 2002. The subsequent devaluation saw thousands of people's life savings disappear. Scathes of companies went bust. \\\"Three years ago, every sector [of the economy] was hit by the crisis,\\\" said entrepreneur Drayton Valentine. It really was dire.\\n\\nBut since then, the general mood on the ground has improved dramatically, in part because the devaluation helped attract fresh direct investment from abroad and stimulate business within Brazil. \\\"Agriculture and tourism are helping,\\\" said entrepreneur Drayton Valentine.\\n\\nMr Valentine, who was born in the United States but grew up in Argentina, was fortunate: At the time of the crisis, his savings were held in dollar accounts abroad. But now he is using his money to help with the start-up a trading company. He explained that initially, his firm is going to export building materials to Spain and United States. Then, he would like to diversify to other areas, depending on the market. \\\"Locally there is a sense of recovery, many companies are exporting now,\\\" he said, noting that a lot of firms, which were closed during the crisis, are re-opening.\\n\\nBut not all that shines is gold. Argentina is still burdened by its failure to pay private creditors at the end of 2001. President Nestor Kirchner's administration is still trying to hammer out an agreement with the creditors, but with the debts' nominal value standing at around $100bn it is not proving easy. Debt defaults make further lending agreements both difficult and expensive to negotiate. Argentina's current offer implies that the creditors would get just 25 cents for each dollar they are owed, according to the creditors. Understandably, they want more and until they do, both they and others are loath to continue lending. For President Kirchner, this proves a hopeless challenge. Real losses have been suffered and somebody has to pay, observed Jack Boorman, adviser to IMF's managing director, Rodrigo Rato. \\\"Everyone needs to keep in mind the enormous cost on the part of both creditors and the Argentine society and people that will have been endured by the time a settlement is reached,\\\" he said. \\\"The cost is enormous, and continues to be paid, and will not be reversed by any restructuring.\\\"\\n\\nWith the international negotiations being troubled, it is of little help to President Kirchner that the domestic situation remains strained as well.\\n\\nThis is partly because there are still bank account holders who are waiting to recover some of their deposits. \\\"The situation is bad for those who had previously chosen to save in Argentina, \\\" said Carlos Baez Silva, president of AARA, an association that represents bank account and bond holders. Few people have recovered more than about half their savings, Mr Baez Silva estimated, pointing out that many of the savers who have lost out are pensioners or others who once trusted the government, people who set aside money for the future in the belief that their investment would be safe. \\\"A lot of them invested in good faith,\\\" he said. \\\"The Argentine state responded by taking most of their investments.\\\" The affair has made Mr Baez Silva disillusioned with the country's legal system. On occasion, the Supreme Court has ruled against the interests of the people he represents, he says, insisting that the system cannot be trusted. \\\"People have to deposit their money in the banks, not necessarily because they trust them but because crime is so high that people cannot have their money in their homes beneath their mattresses.\\\" Mr Valentine, who was born in the United States but grew up in Argentina, agreed. \\\"If I have to save pesos [the local currency] there is not much problem, but I will think twice before I deposit dollars in a bank\\\".\\n\"\n        ],\n        \"semantic_type\": \"\",\n        \"description\": \"\"\n      }\n    },\n    {\n      \"column\": \"entertainment\",\n      \"properties\": {\n        \"dtype\": \"string\",\n        \"num_unique_values\": 347,\n        \"samples\": [\n          \"New Harry Potter tops book chart\\n\\nHarry Potter and the Half-Blood Prince has topped Amazon's book chart less than 24 hours after its release date - 16 July - was announced.\\n\\nThousands of customers placed pre-orders on the amazon.co.uk website for the sixth book in the series. Rowling revealed she had completed the novel on Tuesday, ahead of the scheduled announcement on 25 December. It will be published simultaneously in the UK, the US, Canada, Australia, New Zealand and South Africa. JK Rowling's fifth book in the wizard series, Harry Potter and Order of the Phoenix was Amazon's largest pre-ordered item ever, with 420,000 copies pre-ordered prior to its release in June 2003. Customers who pre-order Harry Potter and the Half-Blood Prince avoid standing in long queues at bookshops on the day of the book's release next July. \\\"The fact that the book has already hit number one in our Hot 100 books chart shows how incredibly excited customers are about the sixth Harry Potter,\\\" said Amazon's Robin Terrell.\\n\\nHarry Potter and the Half-Blood Prince takes up the story of Harry Potter's sixth year at Hogwarts School of Witchcraft and Wizardry as Lord Voldemort grows stronger. Rowling has already revealed that the Half-Blood Prince is neither Harry nor Voldemort. And she added that the opening chapter of the book had been brewing in her mind for 13 years. Rowling said she had plenty of time while pregnant \\\"to tinker with the manuscript to my satisfaction and I am as happy as I have ever been with the end result\\\". She also previously revealed that a character will be killed in the sixth book, but she has given no hints as to who it might be. Following publication of the sixth book, just one novel remains to complete the series.\\n\",\n          \"Redford's vision of Sundance\\n\\nDespite sporting a corduroy cap pulled low over his face plus a pair of dark glasses, Robert Redford cuts an unmistakable figure through the star-struck crowds at Sundance.\\n\\nIt's a rare downtown appearance for the man who started the annual festival in Park City, Utah back in the 1980s. Now in its twenty-first year, Sundance continues to grow. Some 45,000 people are estimated to have descended on this small ski town with nothing but movies on the mind. It's an opportunity to meet and make deals. Redford wanted Sundance to be a platform for independent film-makers, but the commercial success of many showcased films have led to criticism that the festival is becoming too mainstream.\\n\\nSmaller festivals like Slamdance and XDance, which take place during the same week in Park City, are competing for Sundance's limelight. But Redford is not worried. \\\"The more the merrier,\\\" he says. \\\"The point was to create opportunities for people who may not have them. \\\"Once independent film had a place where the work could be seen, suddenly the merchants came. With them the celebrities came, then the paparazzi - and suddenly it began to take on a whole new tone,\\\" explains Redford.\\n\\n\\\"People started to say we had gone mainstream and Hollywood, but actually Hollywood came to us because suddenly there was good business in independent film,\\\" he adds. International film-makers have always been celebrated here, but 2005 is the first year a dedicated World Dramatic and Documentary competition is being held.\\n\\nRedford wants the festival to encompass viewpoints he believes the American media fails to reflect, particularly how the US is perceived internationally. He has never hidden the fact that he is a Democrat. But he reserves particular disdain for the current Republican administration. \\\"It's the ability to maintain the importance of dissent in a democratic system which right now is under threat with the attitude of this administration,\\\" he says. \\\"I think many voices are being shut down or accused of being unpatriotic if they want to express another point of view. That's very unhealthy and very dangerous.\\n\\n\\\"If we take that policy into the world, there will be the same victims and the same consequences.\\\" Sundance isn't just one big screening. There are discussion panels and Q&A sessions with directors tackling controversial topics like America's \\\"culture wars\\\" and the Iraq war. While Redford wishes the festival to be a forum for dissent, the profile of the audience is fairly monolithic. Educated, middle class and predominantly white Americans comes Sundance, with views from the same end of the political spectrum - anti-war and socially liberal. But Redford knows this and started the Sundance TV Channel in an effort to reach a wider audience. \\\"When you look at the films here, what we are presenting is very much egalitarian. And it's about good films and good story-telling be it African America, Asian, women, gay, lesbian. \\\"Sooner or later we will do away with those stereotypical labels and people will say 'it's just a film by so-and so'.\\\"\\n\",\n          \"Actor Scott is new Bond favourite\\n\\nBookmaker William Hill has stopped taking bets on who will be the next James Bond, following a succession of large wagers on actor Dougray Scott.\\n\\nThe firm closed the book on Friday, saying \\\"insider information\\\" could have contributed to the number of bets. \\\"In the past gambles like this have often been right,\\\" William Hill spokesman Rupert Adams said. The closing list gave Scott odds of 6-9, followed by Oscar nominee Clive Owen at 5-2. Scott first found fame in the TV series Soldier Soldier and has since then starred in such films as Mission Impossible II and the wartime drama Enigma.\\n\\nMr Adams said one punter had placed a bet of \\u00a3870 on the 39-year-old actor at odds of 8-1. \\\"She told us she had some inside information, perhaps she knew he had been to a casting, but she wouldn't say,\\\" he said. Others thought to be in the running include Star Wars actor Ewan McGregor and Australian star Hugh Jackman, both of whom have odds of 4-1. Colin Farrell, Jude Law and Troy star Eric Bana have also been tipped for the role in the past.\\n\\nA large number of bets on actor Colin Salmon to become the first black James Bond were dismissed as a publicity stunt a month ago. The next Bond film, originally due for release in 2005, has been delayed until 2006 due to Sony's takeover of the MGM studio. The most recent, Die Another Day, was released in late 2002 and saw Pierce Brosnan make his final appearance as the secret agent. The actor was originally due to make a fifth appearance as Bond, but was released from his contract in 2004.\\n\"\n        ],\n        \"semantic_type\": \"\",\n        \"description\": \"\"\n      }\n    },\n    {\n      \"column\": \"sport\",\n      \"properties\": {\n        \"dtype\": \"string\",\n        \"num_unique_values\": 346,\n        \"samples\": [\n          \"Radcliffe proves doubters wrong\\n\\nThis won't go down as one of the greatest marathons of Paula's career. But as a test of character, it was the toughest race she's ever taken part in.\\n\\nA win in the New York marathon doesn't make up for the disappointment of Athens in any shape or form, but it will offer hope and reassurance for next year. If Paula's last experience of the year had been Athens, it would have been very difficult to look forward with any optimism. She can now draw a line under this year and make plans about her future. Even if she'd lost this race, there would have been a lot of positives to take out of it. She knows she can dig deep if she needs to. It was a strong field, with a number of the girls going into the race with expectations of winning. And although two hours 23 minutes wasn't one of Paula's best times, it wasn't far off the record on a difficult course.\\n\\nI was speaking to Paula in the lead-up to this race and she said that in many ways she was facing a no-win situation. She thought that if she won, people would say \\\"why couldn't she do that in Athens?\\\" And if she lost, people would say her career was over. And a lot of people were wondering what would happen if Paula was forced to drop out of this race, as she did in the marathon and 10,000m in Athens. But that was never on the cards. She might have been beaten, but she would have kept running. The reasons she was forced to pull out in Athens - the niggling injuries, her lack of energy and the oppressive conditions - weren't at play here. The only question was what position she could finish in. Most important of all, despite all the hype in the media ahead of this race, there were never doubts in Paula's mind. If she wasn't confident, she wouldn't have run. After all, if you're the best in the world at an event, you'll always have expectations of winning.\\n\\nNow Paula will take part in the Run London 10km race in London at the end of the year, have a well-earned rest over Christmas and go into next year with a lot of optimism.\\n\",\n          \"O'Sullivan commits to Dublin race\\n\\nSonia O'Sullivan will seek to regain her title at the Bupa Great Ireland Run on 9 April in Dublin.\\n\\nThe 35-year-old was beaten into fourth at last year's event, having won it a year earlier. \\\"I understand she's had a solid winter's training down in Australia after recovering from a minor injury,\\\" said race director Matthew Turnbull. Mark Carroll, Irish record holder at 3km, 5km and 10km, will make his debut in the mass participation 10km race. Carroll has stepped up his form in recent weeks and in late January scored an impressive 3,000m victory over leading American Alan Webb in Boston. Carroll will be facing stiff competition from Australian Craig Mottram, winner in Dublin for the last two years.\\n\",\n          \"Almagro continues Spanish surge\\n\\nUnseeded Nicolas Almagro became the fifth Spaniard to reach the last eight at the Buenos Aires Open, ousting eighth seed Mariano Zabaleta.\\n\\nHe showed admirable resolve to win a rain-affected match 6-7 6-4 6-4. Compatriot and seventh seed Rafael Nadal also reached the last eight, beating Italian Potito Starace 6-1 6-3. Nadal, playing in the outdoor clay event for the first time, hit some powerful forehands to oust Starace in a match delayed over an hour by rain. \\\"It's always a problem to have to stop for rain but one gets used to it,\\\" said Spanish teenager Nadal. \\\"Luckily, I was able to keep my pace going throughout the match.\\\" He will now play Gaston Gaudio, who beat unseeded Brazilian Flavio Saretta 6-3 6-2 in the day's late match.\\n\"\n        ],\n        \"semantic_type\": \"\",\n        \"description\": \"\"\n      }\n    },\n    {\n      \"column\": \"tech\",\n      \"properties\": {\n        \"dtype\": \"string\",\n        \"num_unique_values\": 347,\n        \"samples\": [\n          \"US peer-to-peer pirates convicted\\n\\nThe first convictions for piracy over peer-to-peer networks have been handed down in the US.\\n\\nNew Yorker William Trowbridge and Texan Michael Chicoine have pleaded guilty to charges that they infringed copyright by illegally sharing music, movies and software. The two men faced charges following raids in August on suspected pirates by the FBI. The pair face jail terms of up to five years and a $250,000 (\\u00a3130,000) fine.\\n\\nIn a statement the US Department of Justice said the two men operated the central hubs in a piracy community organised across the Direct Connect peer-to-peer network. The piracy group called itself the Underground Network and membership of it demanded that users share between one and 100 gigabytes of files. Direct Connect allows users to set themselves up as central servers that act as co-ordinating spots for sharers. Users would swap files, such as films and music, by exchanging data over the network. During its investigation FBI agents reportedly downloaded 84 movies, 40 software programs, 13 games and 178 \\\"sound recordings\\\" from the five hubs that made up the larger piracy group. The raids were organised under the umbrella of Operation Digital Gridlock which was aimed at fighting \\\"criminal copyright theft on peer-to-peer networks\\\". In total, six raids were carried out in August. Five were on the homes of suspected copyright thieves and one on a net service firm. The Department of Justice said that both men pleaded guilty to one count of conspiracy to commit felony copyright infringement. They also pleaded guilty to acting for commercial advantage. The two men are due to be sentenced on 29 April.\\n\",\n          \"Apple unveils low-cost 'Mac mini'\\n\\nApple has unveiled a new, low-cost Macintosh computer for the masses, billed as the Mac mini.\\n\\nChief executive Steve Jobs showed off the new machine at his annual MacWorld speech, in San Francisco. The $499 Macintosh, sold for \\u00a3339 in the UK, was described by Jobs as the \\\"most important Mac\\\" made by Apple. Mr Jobs also unveiled the iPod shuffle, a new music player using cheaper flash memory rather than hard drives, which are used in more expensive iPods.\\n\\nThe new computer shifts the company into new territory - traditionally, the firm is known as a design and innovation-led firm rather than as a mass-market manufacturer. The Mac mini comes without a monitor, keyboard and mouse, and a second version with a larger hard drive will also be sold for $599.\\n\\nThe machine - which will be available from 22 January - was described by Jobs as \\\"BYODKM... bring your own display, keyboard, and mouse\\\". In an attempt to win over Windows PC customers, Mr Jobs said it would appeal to people thinking of changing operating systems. \\\"People who are thinking of switching will have no more excuses,\\\" he said. \\\"It's the newest and most affordable Mac ever.\\\" The new computer has been the subject of speculation for several weeks and while few people will be surprised by the announcement many analysts had already said it was a sensible move. In January, Apple sued a website after it published what it said were specifications for the new computer. Ian Harris, deputy editor of UK magazine Mac Format, said the machine would appeal to PC-owning consumers who had purchased an iPod.\\n\\n\\\"They want a further taste of Mac because they like what they have seen with iPod.\\\" Harris added: \\\"Everybody thought that Apple was happy to remain a niche maker of luxury computers, and moving into a market dominated by low margin manufacturers like Dell is a bold move. \\\"But it shows that Apple is keen to capitalise on the mass market success it's had with the iPod. The Mac mini will appeal to PC users looking for an attractive, 'no fuss' computer.\\\" The new iPod shuffle comes in two versions - one offering 512mb of storage for $99 (\\u00a369 in the Uk) and a second with one gigabyte of storage for $149 (\\u00a399) - and went on sale Tuesday. The music player has no display and will play songs either consecutively or shuffled. The smaller iPod will hold about 120 songs, said Mr Jobs. Mr Jobs told the delegates at MacWorld that iPod already had a 65% market share of all digital music players.\\n\",\n          \"Kenyan school turns to handhelds\\n\\nAt the Mbita Point primary school in western Kenya students click away at a handheld computer with a stylus.\\n\\nThey are doing exercises in their school textbooks which have been digitised. It is a pilot project run by EduVision, which is looking at ways to use low cost computer systems to get up-to-date information to students who are currently stuck with ancient textbooks. Matthew Herren from EduVision told the BBC programme Go Digital how the non-governmental organisation uses a combination of satellite radio and handheld computers called E-slates. \\\"The E-slates connect via a wireless connection to a base station in the school. This in turn is connected to a satellite radio receiver. The data is transmitted alongside audio signals.\\\" The base station processes the information from the satellite transmission and turns it into a form that can be read by the handheld E-slates. \\\"It downloads from the satellite and every day processes the stream, sorts through content for the material destined for the users connected to it. It also stores this on its hard disc.\\\"\\n\\nThe system is cheaper than installing and maintaining an internet connection and conventional computer network. But Mr Herren says there are both pros and cons to the project. \\\"It's very simple to set up, just a satellite antenna on the roof of the school, but it's also a one-way connection, so getting feedback or specific requests from end users is difficult.\\\"\\n\\nThe project is still at the pilot stage and EduVision staff are on the ground to attend to teething problems with the Linux-based system. \\\"The content is divided into visual information, textual information and questions. Users can scroll through these sections independently of each other.\\\" EduVision is planning to include audio and video files as the system develops and add more content. Mr Herren says this would vastly increase the opportunities available to the students. He is currently in negotiations to take advantage of a project being organised by search site Google to digitise some of the world's largest university libraries. \\\"All books in the public domain, something like 15 million, could be put on the base stations as we manufacture them. Then every rural school in Africa would have access to the same libraries as the students in Oxford and Harvard\\\" Currently the project is operating in an area where there is mains electricity. But Mr Herren says EduVision already has plans to extend it to more remote regions. \\\"We plan to put a solar panel at the school with the base station, have the E-slates charge during the day when the children are in school, then they can take them home at night and continue working.\\\" Maciej Sundra, who designed the user interface for the E-slates, says the project's ultimate goal is levelling access to knowledge around the world. \\\"Why in this age when most people do most research using the internet are students still using textbooks? The fact that we are doing this in a rural developing country is very exciting - as they need it most.\\\"\\n\"\n        ],\n        \"semantic_type\": \"\",\n        \"description\": \"\"\n      }\n    },\n    {\n      \"column\": \"politics\",\n      \"properties\": {\n        \"dtype\": \"string\",\n        \"num_unique_values\": 347,\n        \"samples\": [\n          \"Hospital suspends 'no Welsh' plan\\n\\nAn English hospital has suspended plans to stop treating Welsh patients who have waited more than three months.\\n\\nHereford County Hospital had earlier said that from the new year patients waiting longer than this would be taken off waiting lists for hip and knee operations. GPs in Wales had feared patients could be pushed to the back of another queue. But after talks with Powys Health Board the hospital called off its plan until health chiefs meet early in January. Hereford Hospital Trust caused an outcry when it sent out a letter telling patients that for financial and administrative reasons it planned to turn down some orthopaedic patients. Shocked health officials in Powys said this meant they would be left with the prospect of patients and doctors having to find new appointments in other hospitals. Andy Williams, chief executive of Powys Local Health Board, had said it was \\\"a totally unacceptable way to behave\\\".\\n\\nMr Williams had said he did not think it was a Welsh-English issue, but said Hereford hospital was \\\"struggling financially and trying to pass the problem back to Powys\\\". He had told BBC Radio Wales: \\\"I have written straight back to the trust... to insist they withdraw this threat and treat the patients I am paying them to treat.\\\" But after the hospital had agreed to the suspension, Mr Williams said he was optimistic a compromise could be reached which would ensure Welsh patients continued to be treated there. He said the problem had been caused by the difference in waiting time targets between England and Wales.\\n\\nThe target is 12 months for Welsh patients, but just three months in England. The contract with the Powys health board was worth \\u00a37m a year for the hospital and accounts for 12% of its patients. In a statement before the suspension of the idea, the Welsh Assembly Government said the situation was \\\"unacceptable\\\". \\\"But Powys Local Health Board is committed to ensuring our patients receive the care that is appropriate,\\\" said the assembly government. \\\"Although we will be challenging Hereford's decision we will put in place appropriate care for our patients. They will be contacted by their GPs in the next week.\\\" Earlier, David Rose, Chief Executive of Hereford Hospitals NHS Trust, had said: \\\"It is with real regret that we have taken this step. \\\"We want to continue providing an excellent and fast service to Powys people but can only do this if we are paid to provide the service. \\\"In 2005 our waiting time will fall to a maximum of 6-months and we want Powys people to ask to be referred to our modern hospital. \\\"We appeal to Powys Local Health Board to allow Powys people to choose Hereford for their treatment.\\\"\\n\",\n          \"Tory leader unveils spending plan\\n\\nTory leader Michael Howard says his party can save \\u00a335bn in government spending by tackling waste.\\n\\nThe money would be ploughed back into frontline services like the NHS and schools with the rest used to cut government borrowing and reduce taxes. The Tory leader has also shrugged off the defection of one of his MPs, Robert Jackson, a former minister, to Labour. Mr Howard said that these things happened in politics and it would not affect the outcome of the election. \\\"Let's be realistic - the election is not going to be decided on the basis of what Mr Jackson did\\\", he told BBC 1's Breakfast with Frost programme. However the defection on Saturday has cast a shadow over the launch of the Conservatives' spending plans. Fuller details are due to be unveiled on Monday.\\n\\nThe bulk of the \\u00a335bn saved by tackling bureaucracy and inefficient systems will go back into frontline services, Mr Howard said. The \\u00a312bn left over would then be spent on reducing government borrowing, he added. However, the remainder would deal with some of the \\\"unfair taxes\\\". \\\"Almost every independent expert says if you get another Labour government you are going to have to pay higher taxes,\\\" Mr Howard insisted. \\\"Because borrowing is going up, it is out of control, that is bound to lead to higher taxes or higher interest rates or both. \\\"So part of the \\u00a312bn we are going to apply to filling the government's black hole, reducing the borrowing. \\\"The rest will be used to reduce these unfair taxes which are bearing so heavily on the people of our country today.\\\"\\n\\nMr Howard is expected to say that around \\u00a36bn will be available for tax cuts when he makes his announcement on Monday. The cuts will be paid for out of the savings identified by business trouble-shooter David James. Home Office spending could be cut by \\u00a31.6bn, according to the final instalment of his year-long review. Savings of \\u00a3153m at the Foreign Office and \\u00a3336m at the Department for Culture Media and Sport, have also been identified. In all, almost a quarter of a million jobs and 168 public bodies would go under Mr James' proposals.\\n\\nMr Howard said: \\\"All this adds up to a bottom line and the bottom line is at this election people will have a clear choice between Mr Blair, who will waste more and tax more, and a Conservative government that will give them value for money and tax less.\\\" However, Chief Treasury Secretary Paul Boateng said: \\\"None of the Tories' figures add up so they can't make these savings and can't pay for any tax cuts, which means the only guaranteed cut from the Tories is \\u00a335bn of cuts, hitting frontline public services hard.\\\" Liberal Democrat leader Charles Kennedy added: \\\"People will not be taken in by Michael Howard's claims of \\u00a335bn worth of savings. \\\"This can't be achieved without drastic cuts in local services in their own communities.\\\" A poll for the News of the World newspaper suggests the Conservatives are on course for their worst election defeat in a century. Labour will hold key marginal constituencies, winning a majority of 160, the Populus survey suggests. And the Liberal Democrats will take three key seats from the Conservatives, leaving the Tories with just 163 MPs, two less than they returned atLabour's 1997 landslide and their worst showing since 1906.\\n\",\n          \"UK rebate 'unjustified' - Chirac\\n\\nFrench president Jacques Chirac has called the UK's \\u00a33bn rebate from the European Union \\\"unjustified\\\".\\n\\nSpeaking after a summit meeting he said unless it was put up for discussion the EU would never be able to reach agreement on its medium term finances. Earlier Foreign Secretary Jack Straw said the UK was prepared to veto any bid to reduce the rebate secured by Margaret Thatcher in 1984. He said it remained justified because less EU farm money came to the UK.\\n\\nMr Chirac told reporters in Brussels: \\\"One can only have a reasonable budgetary balance if we put back on the table the British cheque. It can no longer be justified. It was from the past.\\\" But a UK Government official responded: \\\"Even with the rebate, the UK pays two and a half times more than France contributes to the EU budget. Without it we would pay 14 times as much as France. \\\"There can be no deal on future financing which does not protect the rebate.\\\"\\n\\nThe 25-member EU is gearing up for tough negotiations on its budget plans for the period 2007-2013, with the bloc's Luxembourg presidency hoping to strike a deal at a June summit. Earlier Conservative Graham Brady said the rebate was a \\\"crucial test\\\" of how firmly ministers were prepared to stand up for Britain. EU Commission president Jose Manuel Barroso has indicated he wants the rebate to come to an end. Mr Straw said that as well as the veto over the rebate the UK wanted to keep a tight rein on national contributions.\\n\\nThe UK, France, Germany, Austria, the Netherlands and Sweden want the EU budget to be capped at 1% of member states' combined national incomes - the European Commission has urged an increase to 1.26%. Mr Straw has said the EU commission's proposal would mean a 35% hike in the budget. Shadow Europe minister Mr Brady said: \\\"I believe it is essential that Britain keeps the rebate and I think it's a crucial test of how firmly the British government is prepared to stand up for Britain internationally in Europe.\\n\\n\\\"The UK is already one of the biggest net contributors to the EU .\\\" The foreign secretary meanwhile said the \\\"justice\\\" of the rebate remained. \\\"We have one of the lowest net receipts of any EU country because of the relatively small size of our agriculture sector and its efficiency. \\\"That continues to be the case.\\\"\\n\\nUK Independence Party leader Roger Knapman said the rebate was \\\"set in stone\\\" and there was no reason to negotiate about it. \\\"It is extraordinary to do it at this time, just as we are becoming the biggest contributor to the EU. If we lose our rebate as well, the British taxpayer is going to be bled at such a rate that I think everyone will go off the European project.\\\" EU leaders are holding talks in Brussels on how to re-energise the sluggish European economy. UK Prime Minister Tony Blair is meeting his EU counterparts to finalise a package of measures aimed at stimulating growth and boosting employment ahead of a series of referendums on the European Constitution. The plans could introduce a free market into everything from computer services to construction. Critics - including Germany and France - believe liberalisation could result in companies shifting staff to cheaper bases in Eastern Europe, undercutting large EU economies and undermining social protections. There are also concerns about the number of workers from eastern European countries who will head west, exacerbating the already high unemployment levels in Germany.\\n\\nMr Straw insisted there was nothing to fear from the services directorate. \\\"European countries overall have benefited hugely from the free market in goods,\\\" he said. \\\"What we are now talking about is developing that market into an internal market in services.\\\" Britain's low unemployment meant there was less \\\"neurosis\\\" about people coming from eastern European countries. \\\"In countries like Germany and France, where frankly because of a tighter social market they have much higher levels of unemployment, there is increasing anxiety about other people coming in,\\\" he said.\\n\"\n        ],\n        \"semantic_type\": \"\",\n        \"description\": \"\"\n      }\n    }\n  ]\n}"
            }
          },
          "metadata": {},
          "execution_count": 2
        }
      ]
    },
    {
      "cell_type": "code",
      "source": [
        "df.shape"
      ],
      "metadata": {
        "colab": {
          "base_uri": "https://localhost:8080/"
        },
        "id": "xDDLnd0D5Knj",
        "outputId": "101a2038-598a-4b87-85c1-0f67a9263b8d"
      },
      "execution_count": null,
      "outputs": [
        {
          "output_type": "execute_result",
          "data": {
            "text/plain": [
              "(347, 5)"
            ]
          },
          "metadata": {},
          "execution_count": 3
        }
      ]
    },
    {
      "cell_type": "code",
      "source": [
        "articles=df['entertainment'].to_list()[:10]\n",
        "len(articles),len(articles[0])"
      ],
      "metadata": {
        "colab": {
          "base_uri": "https://localhost:8080/"
        },
        "id": "xMk7DPoU62Bs",
        "outputId": "8b033d19-654c-4258-df99-60eb0e662a7e"
      },
      "execution_count": null,
      "outputs": [
        {
          "output_type": "execute_result",
          "data": {
            "text/plain": [
              "(10, 2198)"
            ]
          },
          "metadata": {},
          "execution_count": 124
        }
      ]
    },
    {
      "cell_type": "code",
      "source": [],
      "metadata": {
        "id": "Gq5vBbG296-6"
      },
      "execution_count": null,
      "outputs": []
    },
    {
      "cell_type": "code",
      "source": [
        "import re,spacy\n",
        "nlp=spacy.load('en_core_web_sm')"
      ],
      "metadata": {
        "id": "8MhBJpzT63qV"
      },
      "execution_count": null,
      "outputs": []
    },
    {
      "cell_type": "code",
      "source": [
        "def preprocess(text):\n",
        "    '''\n",
        "    function used to preprocess the text\n",
        "\n",
        "    '''\n",
        "\n",
        "    text = re.sub(r'\\n', ' ', text)\n",
        "\n",
        "    # Remove punctuation (you can customize this pattern for your needs)\n",
        "    text = re.sub(r'[^\\w\\s]', '', text)\n",
        "\n",
        "    # Remove extra spaces and replace with a single space\n",
        "    text = re.sub(r'\\s+', ' ', text).strip()\n",
        "\n",
        "    # tokenize word\n",
        "    doc=nlp(text)\n",
        "    toks=[i.text.lower() for i in doc if not i.is_stop  and i.text.lower()[:5] not in set(['xmath','xcite'])]\n",
        "\n",
        "\n",
        "    return \" \" .join(toks)"
      ],
      "metadata": {
        "id": "G5iMgoiA62N-"
      },
      "execution_count": null,
      "outputs": []
    },
    {
      "cell_type": "code",
      "source": [
        "def get_sents(text):\n",
        "    '''\n",
        "    function used to split the text into sentences\n",
        "\n",
        "    parameters:text\n",
        "    returns:list of sentences\n",
        "\n",
        "    '''\n",
        "    doc = nlp(text)\n",
        "    sents=[]\n",
        "    for i, sentence in enumerate(doc.sents):\n",
        "        sents.append(sentence.text)\n",
        "    return sents"
      ],
      "metadata": {
        "id": "O3bqPbB966zz"
      },
      "execution_count": null,
      "outputs": []
    },
    {
      "cell_type": "code",
      "source": [],
      "metadata": {
        "id": "JeQndgnjCHIN"
      },
      "execution_count": null,
      "outputs": []
    },
    {
      "cell_type": "code",
      "source": [
        "def sent_order_dict(text):\n",
        "    '''\n",
        "    function used to give ordering to sentences\n",
        "\n",
        "    parameters:text\n",
        "    returns:two dicts with id as key and sentence as value then reverse in other dict\n",
        "\n",
        "    '''\n",
        "    sents=get_sents(text)\n",
        "    d,d2={},{}\n",
        "    for i,j in enumerate(sents):\n",
        "        d[j]=i\n",
        "        d2[i]=j\n",
        "\n",
        "    return d,d2"
      ],
      "metadata": {
        "id": "tHRFW9o6CHvJ"
      },
      "execution_count": null,
      "outputs": []
    },
    {
      "cell_type": "code",
      "source": [
        "!pip install sentence_transformers"
      ],
      "metadata": {
        "id": "M7k_RjdxGoe1"
      },
      "execution_count": null,
      "outputs": []
    },
    {
      "cell_type": "code",
      "source": [
        "from sentence_transformers import SentenceTransformer\n",
        "\n",
        "# Load pre-trained SBERT model\n",
        "sbert_model = SentenceTransformer('bert-base-nli-mean-tokens')"
      ],
      "metadata": {
        "id": "9x_pbdZnGmfc"
      },
      "execution_count": null,
      "outputs": []
    },
    {
      "cell_type": "code",
      "source": [
        "# Encode a single sentence\n",
        "sentence=get_sents(articles[1])[0]\n",
        "print(\"Sentence:\", sentence)\n",
        "sentence_embedding = sbert_model.encode(sentence)\n",
        "print(\"Sentence Embedding Shape:\", sentence_embedding.shape,type(sentence_embedding))"
      ],
      "metadata": {
        "colab": {
          "base_uri": "https://localhost:8080/"
        },
        "id": "UGrBUOWvG5CM",
        "outputId": "e055c0d5-4549-42b8-9171-174342b56c57"
      },
      "execution_count": null,
      "outputs": [
        {
          "output_type": "stream",
          "name": "stdout",
          "text": [
            "Sentence: Oil prices reach three-month low\n",
            "\n",
            "Oil prices have fallen heavily for a second day, closing at three-month lows after news that US crude stocks have improved ahead of winter.\n",
            "\n",
            "\n",
            "Sentence Embedding Shape: (768,) <class 'numpy.ndarray'>\n"
          ]
        }
      ]
    },
    {
      "cell_type": "code",
      "source": [],
      "metadata": {
        "id": "23OlUmzuLOMD"
      },
      "execution_count": null,
      "outputs": []
    },
    {
      "cell_type": "code",
      "source": [],
      "metadata": {
        "id": "DX9Z7_elM5b0"
      },
      "execution_count": null,
      "outputs": []
    },
    {
      "cell_type": "code",
      "source": [
        "def vec_sent_map(d):\n",
        "    '''\n",
        "    function used to create sentence vector and stores it in a dict\n",
        "\n",
        "    parameters:dictionary with sentences as key\n",
        "    returns:two dicts with key as vector and sentence as value then reverse in other dict\n",
        "\n",
        "    '''\n",
        "    sent_vec,vec_sent={},{}\n",
        "    for key,value in d.items():\n",
        "        vec=sbert_model.encode(key)\n",
        "        sent_vec[value]=vec\n",
        "        vec_sent[tuple(vec)]=value\n",
        "\n",
        "    return sent_vec,vec_sent\n"
      ],
      "metadata": {
        "id": "jd4Srei-G7LS"
      },
      "execution_count": null,
      "outputs": []
    },
    {
      "cell_type": "code",
      "source": [
        "!pip install umap-learn\n"
      ],
      "metadata": {
        "id": "3pv0-NLFTBX2"
      },
      "execution_count": null,
      "outputs": []
    },
    {
      "cell_type": "code",
      "source": [],
      "metadata": {
        "id": "z7hBnd7Fg4A4"
      },
      "execution_count": null,
      "outputs": []
    },
    {
      "cell_type": "code",
      "source": [
        "def reduce_dim(sent_vec,n=100):\n",
        "    '''\n",
        "    function used to reduce the dimensions of sentence embedding\n",
        "\n",
        "    parameters:dictionary with vector as value\n",
        "    returns:two dictionaries with reduced vector as key and original vector as value then reverse in other dictionary\n",
        "\n",
        "    '''\n",
        "    from umap import UMAP\n",
        "    u1=UMAP(n_components=n,n_neighbors=45)\n",
        "    x=[]\n",
        "    for key,value in sent_vec.items():\n",
        "        x.append(value)\n",
        "\n",
        "    red_vec=u1.fit_transform(np.array(x))\n",
        "    high_low,low_high={},{}\n",
        "\n",
        "    for i in range(len(x)):\n",
        "        high_low[tuple(x[i])]=red_vec[i]\n",
        "        low_high[tuple(red_vec[i])]=x[i]\n",
        "\n",
        "    return high_low,low_high"
      ],
      "metadata": {
        "id": "Z7sQ4hAbf7VS"
      },
      "execution_count": null,
      "outputs": []
    },
    {
      "cell_type": "code",
      "source": [],
      "metadata": {
        "id": "tmam5NxgmurT"
      },
      "execution_count": null,
      "outputs": []
    },
    {
      "cell_type": "code",
      "source": [
        "def kmeans_k(data):\n",
        "    '''\n",
        "    function used to find best k value using silhouette score\n",
        "\n",
        "    parameters:reduced sentence vectors\n",
        "    returns:k value,kmeans model\n",
        "\n",
        "    '''\n",
        "    from sklearn.cluster import KMeans\n",
        "    from sklearn.metrics import silhouette_score\n",
        "\n",
        "    krange=list(range(5,11))\n",
        "    k,model_kmeans=None,None\n",
        "    silh=-1.1\n",
        "    for i in krange:\n",
        "        kmeans = KMeans(n_clusters=i)\n",
        "        kmeans.fit(data)\n",
        "        silhouette_avg = silhouette_score(data, kmeans.labels_)\n",
        "\n",
        "        if silhouette_avg>silh:\n",
        "            k,model_kmeans=i,kmeans\n",
        "            silh=silhouette_avg\n",
        "\n",
        "        print(f'k: {i}\\tsilhouette score: {silhouette_avg}')\n",
        "\n",
        "    print()\n",
        "    return k,model_kmeans\n"
      ],
      "metadata": {
        "id": "B7pwl0npmySn"
      },
      "execution_count": null,
      "outputs": []
    },
    {
      "cell_type": "code",
      "source": [
        "def distance(x,y):\n",
        "    '''\n",
        "    function used calculate euclidean distance\n",
        "    parameters:center,reduced vector\n",
        "    returns:euclidean distance\n",
        "\n",
        "    '''\n",
        "    return np.linalg.norm(x - y)"
      ],
      "metadata": {
        "id": "Z4txcogf0qFv"
      },
      "execution_count": null,
      "outputs": []
    },
    {
      "cell_type": "code",
      "source": [
        "\n",
        "def get_summary(text):\n",
        "    '''\n",
        "    function used to get one sentence per each cluster\n",
        "\n",
        "    parameters:text\n",
        "    returns:list of sentences\n",
        "\n",
        "    '''\n",
        "    sent_order,id_sent=sent_order_dict(text)\n",
        "\n",
        "    sent_vec,vec_sent=vec_sent_map(sent_order)\n",
        "\n",
        "    high_low,low_high=reduce_dim(sent_vec,n=len(sent_order)-2)\n",
        "\n",
        "    data=[]\n",
        "    for i in high_low.values():\n",
        "        data.append(i)\n",
        "\n",
        "    k,kmeans=kmeans_k(data)\n",
        "    centers,labels=kmeans.cluster_centers_,kmeans.labels_\n",
        "\n",
        "    k_sents=[]\n",
        "    for i in range(k):\n",
        "        c=centers[i]\n",
        "        min_d,point=float('inf'),None\n",
        "\n",
        "        for j in range(len(labels)):\n",
        "            if i==labels[j] and distance(c,data[j])<min_d:\n",
        "                min_d,point=distance(c,data[j])<min_d,data[j]\n",
        "\n",
        "        high=low_high[tuple(point)]\n",
        "        sent_no=vec_sent[tuple(high)]\n",
        "        sent=id_sent[sent_no]\n",
        "        k_sents.append((sent,sent_no))\n",
        "\n",
        "\n",
        "    k_sents.sort(key=lambda x:x[1])\n",
        "    print('\\nExtractive summary : ',k,'(no of clusters) indicates no of sentences :\\n')\n",
        "    for i in k_sents:\n",
        "        print(i[1],',',f'{i[0]}')\n",
        "    return k_sents\n",
        "\n",
        "\n",
        "\n"
      ],
      "metadata": {
        "id": "thTe41nSsTl5"
      },
      "execution_count": null,
      "outputs": []
    },
    {
      "cell_type": "code",
      "source": [
        "extractive_summary=get_summary(articles[1])"
      ],
      "metadata": {
        "colab": {
          "base_uri": "https://localhost:8080/"
        },
        "id": "liuHOiEh3f7o",
        "outputId": "0708c5cc-9087-49fb-e769-020dc6735764"
      },
      "execution_count": null,
      "outputs": [
        {
          "output_type": "stream",
          "name": "stdout",
          "text": [
            "k: 5\tsilhouette score: 0.23807385563850403\n",
            "k: 6\tsilhouette score: 0.19890525937080383\n",
            "k: 7\tsilhouette score: 0.159412682056427\n",
            "k: 8\tsilhouette score: 0.11233250796794891\n",
            "k: 9\tsilhouette score: 0.10403744876384735\n",
            "k: 10\tsilhouette score: 0.059301797300577164\n",
            "\n",
            "\n",
            "Extractive summary :  5 (no of clusters) indicates no of sentences :\n",
            "\n",
            "0 , Berlin celebrates European cinema\n",
            "\n",
            "Organisers say this year's Berlin Film Festival, which opens on Thursday with period epic Man to Man, will celebrate a revitalised European cinema.\n",
            "\n",
            "\n",
            "5 , \"It's just that there are more good European films.\n",
            "7 , \"There is no anti-American mood,\" he said.\n",
            "9 , More than a dozen celebrities are scheduled to attend, among them Will Smith, Kevin Spacey and Keanu Reeves.\n",
            "12 , The 10-day Berlinale runs until 20 February.\n",
            "\n"
          ]
        }
      ]
    },
    {
      "cell_type": "code",
      "source": [
        "extractive_summary=get_summary(articles[5])"
      ],
      "metadata": {
        "colab": {
          "base_uri": "https://localhost:8080/"
        },
        "id": "TLZHl22PQQ8X",
        "outputId": "6be6328e-7b4d-419c-98e1-e12690d6faa8"
      },
      "execution_count": null,
      "outputs": [
        {
          "output_type": "stream",
          "name": "stdout",
          "text": [
            "k: 5\tsilhouette score: 0.18146561086177826\n",
            "k: 6\tsilhouette score: 0.18473830819129944\n",
            "k: 7\tsilhouette score: 0.16574089229106903\n",
            "k: 8\tsilhouette score: 0.12016880512237549\n",
            "k: 9\tsilhouette score: 0.12461133301258087\n",
            "k: 10\tsilhouette score: 0.10553476214408875\n",
            "\n",
            "\n",
            "Extractive summary :  6 (no of clusters) indicates no of sentences :\n",
            "\n",
            "7 , If this isn't one of the films of the year, I don't know what is.\"\n",
            "9 , The production company is behind films such as My Beautiful Laundrette, Billy Elliot, About A Boy, Shaun of The Dead and Bridget Jones: The Edge of Reason.\n",
            "\n",
            "\n",
            "10 , Simon Pegg, who stars in and co-wrote Shaun of the Dead, won the 2004 Peter Sellers Award For Comedy.\n",
            "11 , Other winners included Emily Blunt and Nathalie Press who were jointly named ITV London Most Promising Newcomer Award for their performances in Pawel Pawlikowski's rites-of-passage story, My Summer of Love.\n",
            "12 , Pawlikowski won the best screenplay statuette, while Roger Deakins won the Technical Achievement Award for his cinematography on The Village and The Ladykillers.\n",
            "14 , The awards, which were hosted by Jack Dee, are to be screened on ITV London on Tuesday at 2300 GMT.\n",
            "\n"
          ]
        }
      ]
    },
    {
      "cell_type": "code",
      "source": [
        "extractive_summary=get_summary(articles[3])"
      ],
      "metadata": {
        "colab": {
          "base_uri": "https://localhost:8080/"
        },
        "id": "awLuHcFrQSAG",
        "outputId": "e4684771-a275-4749-dd57-3f38ee652684"
      },
      "execution_count": null,
      "outputs": [
        {
          "output_type": "stream",
          "name": "stdout",
          "text": [
            "k: 5\tsilhouette score: 0.21380215883255005\n",
            "k: 6\tsilhouette score: 0.13171420991420746\n",
            "k: 7\tsilhouette score: 0.10425417125225067\n",
            "k: 8\tsilhouette score: 0.09970640391111374\n",
            "k: 9\tsilhouette score: 0.044045235961675644\n",
            "k: 10\tsilhouette score: 0.023077398538589478\n",
            "\n",
            "\n",
            "Extractive summary :  5 (no of clusters) indicates no of sentences :\n",
            "\n",
            "4 , Returning to his old university, which educates only African American students, Lee discussed the challenges facing black people in the entertainment industry.\n",
            "6 , But when it comes time to do a movie, he has to go to one of those gatekeepers,\" Lee said.\n",
            "7 , He told aspiring young film-makers in the audience not to ignore non-traditional routes to getting a movie made, including raising funds independently and releasing films straight to DVD.\n",
            "9 , \"It's not something that should be looked upon as a stepchild.\"\n",
            "10 , Lee has made more than 25 films, including Jungle Fever, Do the Right Thing, Summer of Sam and 1986 hit She's Gotta Have It.\n",
            "\n"
          ]
        }
      ]
    },
    {
      "cell_type": "code",
      "source": [],
      "metadata": {
        "id": "G63c2Bo-QUza"
      },
      "execution_count": null,
      "outputs": []
    }
  ]
}